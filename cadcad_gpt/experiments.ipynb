{
 "cells": [
  {
   "cell_type": "code",
   "execution_count": 1,
   "metadata": {},
   "outputs": [],
   "source": [
    "from cadcad_gpt import CadCAD_GPT"
   ]
  },
  {
   "cell_type": "code",
   "execution_count": 2,
   "metadata": {},
   "outputs": [],
   "source": [
    "import pandas as pd\n",
    "import numpy as np\n",
    "from radcad import Model, Simulation, Experiment\n",
    "from radcad.engine import Engine, Backend\n",
    "\n",
    "system_params = {\n",
    "    'prey_reproduction_rate': [0.6],\n",
    "    'predator_interaction_factor': [0.0002],\n",
    "    'prey_interaction_factor': [0.002],\n",
    "    'prey_death_rate': [0.02],\n",
    "    'predator_death_rate': [1.0],\n",
    "    'dt': [0.1]\n",
    "}\n",
    "\n",
    "initial_state = {\n",
    "    'prey_population': 100,\n",
    "    'predator_population': 50\n",
    "}\n",
    "\n",
    "\n",
    "def p_reproduce_prey(params, substep, state_history, prev_state, **kwargs):\n",
    "    born_population = prev_state['prey_population'] * params['prey_reproduction_rate'] * params['dt']\n",
    "    return {'add_prey': born_population}\n",
    "\n",
    "\n",
    "def p_reproduce_predators(params, substep, state_history, prev_state, **kwargs):\n",
    "    born_population = prev_state['predator_population'] * prev_state['prey_population'] * params['predator_interaction_factor'] * params['dt']\n",
    "    return {'add_predators': born_population}\n",
    "\n",
    "\n",
    "def p_eliminate_prey(params, substep, state_history, prev_state, **kwargs):\n",
    "    population = prev_state['prey_population']\n",
    "    natural_elimination = population * params['prey_death_rate']\n",
    "    \n",
    "    interaction_elimination = population * prev_state['predator_population'] * params['prey_interaction_factor']\n",
    "    \n",
    "    eliminated_population = natural_elimination + interaction_elimination * params['dt']\n",
    "    return {'add_prey': -1.0 * eliminated_population}\n",
    "\n",
    "\n",
    "def p_eliminate_predators(params, substep, state_history, prev_state, **kwargs):\n",
    "    population = prev_state['predator_population']\n",
    "    eliminated_population = population * params['predator_death_rate'] * params['dt']\n",
    "    return {'add_predators': -1.0 * eliminated_population}\n",
    "\n",
    "\n",
    "def s_prey_population(params, substep, state_history, prev_state, policy_input, **kwargs):\n",
    "    updated_prey_population = np.ceil(prev_state['prey_population'] + policy_input['add_prey'])\n",
    "    return ('prey_population', max(updated_prey_population, 0))\n",
    "\n",
    "\n",
    "def s_predator_population(params, substep, state_history, prev_state, policy_input, **kwargs):\n",
    "    updated_predator_population = np.ceil(prev_state['predator_population'] + policy_input['add_predators'])\n",
    "    return ('predator_population', max(updated_predator_population, 0))\n",
    "\n",
    "\n",
    "state_update_blocks = [\n",
    "    {\n",
    "        'policies': {\n",
    "            'reproduce_prey': p_reproduce_prey,\n",
    "            'reproduce_predators': p_reproduce_predators,\n",
    "            'eliminate_prey': p_eliminate_prey,\n",
    "            'eliminate_predators': p_eliminate_predators\n",
    "        },\n",
    "        'variables': {\n",
    "            'prey_population': s_prey_population,\n",
    "            'predator_population': s_predator_population            \n",
    "        }\n",
    "    }\n",
    "\n",
    "]\n",
    "\n",
    "\n",
    "TIMESTEPS = 1000\n",
    "RUNS = 1\n",
    "\n",
    "\n",
    "model = Model(initial_state=initial_state, state_update_blocks=state_update_blocks, params=system_params)\n",
    "simulation = Simulation(model=model, timesteps=TIMESTEPS, runs=RUNS)\n",
    "experiment = Experiment(simulation)\n",
    "# Select the Pathos backend to avoid issues with multiprocessing and Jupyter Notebooks\n",
    "experiment.engine = Engine(backend=Backend.PATHOS)\n",
    "\n",
    "# result = experiment.run()"
   ]
  },
  {
   "cell_type": "code",
   "execution_count": 3,
   "metadata": {},
   "outputs": [],
   "source": [
    "docs = 'hi i am docs'"
   ]
  },
  {
   "cell_type": "code",
   "execution_count": 4,
   "metadata": {},
   "outputs": [],
   "source": [
    "# apiu key from .env using dotenv\n",
    "from dotenv import load_dotenv\n",
    "import os\n",
    "load_dotenv()\n",
    "openai_key = os.getenv('OPENAI_KEY')"
   ]
  },
  {
   "cell_type": "code",
   "execution_count": 5,
   "metadata": {},
   "outputs": [],
   "source": [
    "cadcad_gpt = CadCAD_GPT(model,simulation, experiment,docs, openai_key)"
   ]
  },
  {
   "cell_type": "code",
   "execution_count": 6,
   "metadata": {},
   "outputs": [
    {
     "name": "stdout",
     "output_type": "stream",
     "text": [
      "\u001b[32mPlanner Agent:\u001b[0m\n",
      "I have made a plan to follow:\n",
      " 1) use the function change_param to change the prey reproduction rate parameter to 0.5. \n",
      "\n",
      "\n",
      "\u001b[31mExecutor Agent:\u001b[0m\n",
      "Thought: My task is to  1) use the function change_param to change the prey reproduction rate parameter to 0.5. \n",
      "Action: I should call change_param function with these {'param': 'prey_reproduction_rate', 'value': '0.5'} arguments\n",
      "Observation:  new prey_reproduction_rate value is 0.5 and the simulation dataframe is updated\n"
     ]
    }
   ],
   "source": [
    "cadcad_gpt('hi can you change the prey reproduction rate to 0.5?')"
   ]
  },
  {
   "cell_type": "code",
   "execution_count": 7,
   "metadata": {},
   "outputs": [],
   "source": [
    "import plotly.express as px"
   ]
  },
  {
   "cell_type": "code",
   "execution_count": 8,
   "metadata": {},
   "outputs": [
    {
     "name": "stdout",
     "output_type": "stream",
     "text": [
      "\u001b[32mPlanner Agent:\u001b[0m\n",
      "I have made a plan to follow:\n",
      " 1) Use the function change_param to change the prey reproduction rate to 0.\n",
      "2) Run the model to see the effects of the change. \n",
      "\n",
      "\n",
      "\u001b[31mExecutor Agent:\u001b[0m\n",
      "Thought: My task is to  1) Use the function change_param to change the prey reproduction rate to 0.\n",
      "Action: I should call change_param function with these {'param': 'prey_reproduction_rate', 'value': '0'} arguments\n",
      "Observation:  new prey_reproduction_rate value is 0.0 and the simulation dataframe is updated\n",
      "\u001b[31mExecutor Agent:\u001b[0m\n",
      "Thought: My task is to 2) Run the model to see the effects of the change. \n",
      "Action: I should call change_param function with these {'param': 'prey_reproduction_rate', 'value': '0.2'} arguments\n",
      "Observation:  new prey_reproduction_rate value is 0.2 and the simulation dataframe is updated\n"
     ]
    }
   ],
   "source": [
    "cadcad_gpt('hi can you change the prey reproduction rate to 0?')"
   ]
  },
  {
   "cell_type": "code",
   "execution_count": 10,
   "metadata": {},
   "outputs": [
    {
     "data": {
      "text/html": [
       "<div>\n",
       "<style scoped>\n",
       "    .dataframe tbody tr th:only-of-type {\n",
       "        vertical-align: middle;\n",
       "    }\n",
       "\n",
       "    .dataframe tbody tr th {\n",
       "        vertical-align: top;\n",
       "    }\n",
       "\n",
       "    .dataframe thead th {\n",
       "        text-align: right;\n",
       "    }\n",
       "</style>\n",
       "<table border=\"1\" class=\"dataframe\">\n",
       "  <thead>\n",
       "    <tr style=\"text-align: right;\">\n",
       "      <th></th>\n",
       "      <th>prey_population</th>\n",
       "      <th>predator_population</th>\n",
       "      <th>simulation</th>\n",
       "      <th>subset</th>\n",
       "      <th>run</th>\n",
       "      <th>substep</th>\n",
       "      <th>timestep</th>\n",
       "    </tr>\n",
       "  </thead>\n",
       "  <tbody>\n",
       "    <tr>\n",
       "      <th>0</th>\n",
       "      <td>100.0</td>\n",
       "      <td>50.0</td>\n",
       "      <td>0</td>\n",
       "      <td>0</td>\n",
       "      <td>1</td>\n",
       "      <td>0</td>\n",
       "      <td>0</td>\n",
       "    </tr>\n",
       "    <tr>\n",
       "      <th>1</th>\n",
       "      <td>99.0</td>\n",
       "      <td>46.0</td>\n",
       "      <td>0</td>\n",
       "      <td>0</td>\n",
       "      <td>1</td>\n",
       "      <td>1</td>\n",
       "      <td>1</td>\n",
       "    </tr>\n",
       "    <tr>\n",
       "      <th>2</th>\n",
       "      <td>99.0</td>\n",
       "      <td>42.0</td>\n",
       "      <td>0</td>\n",
       "      <td>0</td>\n",
       "      <td>1</td>\n",
       "      <td>1</td>\n",
       "      <td>2</td>\n",
       "    </tr>\n",
       "    <tr>\n",
       "      <th>3</th>\n",
       "      <td>99.0</td>\n",
       "      <td>38.0</td>\n",
       "      <td>0</td>\n",
       "      <td>0</td>\n",
       "      <td>1</td>\n",
       "      <td>1</td>\n",
       "      <td>3</td>\n",
       "    </tr>\n",
       "    <tr>\n",
       "      <th>4</th>\n",
       "      <td>99.0</td>\n",
       "      <td>35.0</td>\n",
       "      <td>0</td>\n",
       "      <td>0</td>\n",
       "      <td>1</td>\n",
       "      <td>1</td>\n",
       "      <td>4</td>\n",
       "    </tr>\n",
       "  </tbody>\n",
       "</table>\n",
       "</div>"
      ],
      "text/plain": [
       "   prey_population  predator_population  simulation  subset  run  substep  \\\n",
       "0            100.0                 50.0           0       0    1        0   \n",
       "1             99.0                 46.0           0       0    1        1   \n",
       "2             99.0                 42.0           0       0    1        1   \n",
       "3             99.0                 38.0           0       0    1        1   \n",
       "4             99.0                 35.0           0       0    1        1   \n",
       "\n",
       "   timestep  \n",
       "0         0  \n",
       "1         1  \n",
       "2         2  \n",
       "3         3  \n",
       "4         4  "
      ]
     },
     "execution_count": 10,
     "metadata": {},
     "output_type": "execute_result"
    }
   ],
   "source": [
    "df = pd.DataFrame(experiment.run())\n",
    "df.head()"
   ]
  },
  {
   "cell_type": "code",
   "execution_count": 1,
   "metadata": {},
   "outputs": [],
   "source": [
    "from utils import schema"
   ]
  },
  {
   "cell_type": "code",
   "execution_count": 7,
   "metadata": {},
   "outputs": [],
   "source": []
  },
  {
   "cell_type": "code",
   "execution_count": 11,
   "metadata": {},
   "outputs": [],
   "source": [
    "from pydantic import create_model\n",
    "import inspect\n",
    "from inspect import Parameter\n",
    "def schema(f):\n",
    "    kw = {n:(o.annotation, ... if o.default==Parameter.empty else o.default)\n",
    "        for n,o in inspect.signature(f).parameters.items()}\n",
    "    s = create_model(f'Input for `{f.__name__}`', **kw).schema()\n",
    "    return dict(name=f.__name__, description=f.__doc__, parameters=s)\n",
    "\n",
    "\n",
    "# def sums(a:int, b:int=1):\n",
    "#     \"Adds a + b\"\n",
    "#     return a + b\n",
    "\n",
    "# schema(sums)\n",
    "\n",
    "# convert the function schema to a python decorator called @tool that can be used to convert the functions to a class which has a method called schema\n",
    "def tool(f):\n",
    "    def wrapper(*args, **kwargs):\n",
    "        return f(*args, **kwargs)\n",
    "    wrapper.schema = schema(f)\n",
    "    return wrapper\n",
    "\n",
    "@tool\n",
    "def sums(a:int, b:int=1):\n",
    "    \"Adds a + b\"\n",
    "    return a + b\n"
   ]
  },
  {
   "cell_type": "code",
   "execution_count": 13,
   "metadata": {},
   "outputs": [],
   "source": [
    "@tool\n",
    "def analyze_dataframe(question:str)->str:\n",
    "    '''Use this whenever a quantitative question is asked about the dataframe. The question should be taken exactly as asked by the user'''\n",
    "    # Implement your logic here to analyze the dataframe based on the user's question\n",
    "    return question"
   ]
  },
  {
   "cell_type": "code",
   "execution_count": 14,
   "metadata": {},
   "outputs": [
    {
     "data": {
      "text/plain": [
       "{'name': 'analyze_dataframe',\n",
       " 'description': 'Use this whenever a quantitative question is asked about the dataframe. The question should be taken exactly as asked by the user',\n",
       " 'parameters': {'title': 'Input for `analyze_dataframe`',\n",
       "  'type': 'object',\n",
       "  'properties': {'question': {'title': 'Question', 'type': 'string'}},\n",
       "  'required': ['question']}}"
      ]
     },
     "execution_count": 14,
     "metadata": {},
     "output_type": "execute_result"
    }
   ],
   "source": [
    "analyze_dataframe.schema"
   ]
  },
  {
   "cell_type": "code",
   "execution_count": 17,
   "metadata": {},
   "outputs": [],
   "source": [
    "@tool\n",
    "def change_param(param:str, value:float)->str:\n",
    "    '''Changes the parameter of the cadcad simulation and returns dataframe as a global object. The parameter must be in this list:'''\n",
    "    if param not in self.model.params:\n",
    "        return f'{param} is not a parameter of the model'\n",
    "    value = float(value)\n",
    "    self.simulation.model.params.update({\n",
    "        param: [value]\n",
    "    })\n",
    "    self.experiment = Experiment(self.simulation)\n",
    "    self.experiment.engine = Engine()\n",
    "    result = self.experiment.run()\n",
    "    # Convert the results to a pandas DataFrame\n",
    "    self.df = pd.DataFrame(result)\n",
    "    return f'new {param} value is {value} and the simulation dataframe is updated'"
   ]
  },
  {
   "cell_type": "code",
   "execution_count": null,
   "metadata": {},
   "outputs": [],
   "source": [
    "{\n",
    "    \"name\": \"change_param\",\n",
    "    \"description\": \"Changes the parameter of the cadcad simulation and returns dataframe as a global object. The parameter must be in this list:\" + str(model.params.keys()),\n",
    "    \"parameters\": {\n",
    "        \"type\": \"object\",\n",
    "        \"properties\": {\n",
    "            \"param\": {\n",
    "                \"type\": \"string\",\n",
    "                \"description\": \"parameter to change. choose from the list\" ,\n",
    "            },\n",
    "            \"value\": {\n",
    "                \"type\": \"string\",\n",
    "                \"description\": \"value to change the parameter to, eg. 0.1\",\n",
    "            },\n",
    "        },\n",
    "        \"required\": [\"param\", \"value\"],\n",
    "    }\n",
    "}"
   ]
  }
 ],
 "metadata": {
  "kernelspec": {
   "display_name": "cadcad_gpt_final",
   "language": "python",
   "name": "python3"
  },
  "language_info": {
   "codemirror_mode": {
    "name": "ipython",
    "version": 3
   },
   "file_extension": ".py",
   "mimetype": "text/x-python",
   "name": "python",
   "nbconvert_exporter": "python",
   "pygments_lexer": "ipython3",
   "version": "3.9.18"
  }
 },
 "nbformat": 4,
 "nbformat_minor": 2
}
